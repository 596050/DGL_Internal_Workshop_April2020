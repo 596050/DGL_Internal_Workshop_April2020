{
 "cells": [
  {
   "cell_type": "markdown",
   "metadata": {},
   "source": [
    "# DGL 101: Use DGL to implement a simple node classification with Karat Club data\n",
    "\n",
    "Almost every computer 101 class starts with a \"Hello World\" example. Like MNIST for deep learning, in graph study domain we have the Zachary's Karate Club problem. The karate club is a social network that includes 34 members and documents pairwise links between members who interact outside the club. The club later divides into two communities led by the instructor and the club president. The network is visualized as follows with the color indicating the community.\n",
    "<img src='./images/karat_club.png' align='center' width=\"400px\" height=\"300px\" />\n",
    "The club is used as a typical node classification task, which purely leverage graph structure information. In this tutorial, we will use Graph Convolutional Network, a basic Graph Neural Network, to do node classification.\n",
    "\n",
    "You will learn:\n",
    "- How to define a graph, adding nodes and edges;\n",
    "- How to setup features and labels for nodes;\n",
    "- How to define a GCN model using DGL's building modules;\n",
    "- How to train the GCN model, and\n",
    "- How to check the results\n",
    "\n",
    "Notice: this tutorial is using PyTorch as backend. You can find MXNet version GCN in <a href='https://github.com/dmlc/dgl/blob/master/examples/mxnet/gcn/gcn.py'>here</a> and TensorFlow version in <a href='https://github.com/dmlc/dgl/blob/master/examples/tensorflow/gcn/gcn.py'>here</a>. And more examples could be found in our <a href=\"https://github.com/dmlc/dgl/examples\">github link</a>.\n",
    "<!--\n",
    "### 使用DGL的实现简单的节点分类 \n",
    "-->"
   ]
  },
  {
   "cell_type": "code",
   "execution_count": 10,
   "metadata": {},
   "outputs": [],
   "source": [
    "import torch\n",
    "import torch.nn as nn\n",
    "import torch.nn.functional as F\n",
    "from torch import optim\n",
    "import dgl\n",
    "from dgl.nn.pytorch import GraphConv\n",
    "import networkx as nx\n",
    "import pandas as pd"
   ]
  },
  {
   "cell_type": "code",
   "execution_count": 3,
   "metadata": {},
   "outputs": [],
   "source": [
    "# five steps of training \n",
    "# ----------- 1. data loader --------------- #\n",
    "# first create the graph\n",
    "g = dgl.DGLGraph()\n",
    "g.add_nodes(34)\n",
    "# second add edges\n",
    "edge_list = [(1, 0), (2, 0), (2, 1), (3, 0), (3, 1), (3, 2),\n",
    "        (4, 0), (5, 0), (6, 0), (6, 4), (6, 5), (7, 0), (7, 1),\n",
    "        (7, 2), (7, 3), (8, 0), (8, 2), (9, 2), (10, 0), (10, 4),\n",
    "        (10, 5), (11, 0), (12, 0), (12, 3), (13, 0), (13, 1), (13, 2),\n",
    "        (13, 3), (16, 5), (16, 6), (17, 0), (17, 1), (19, 0), (19, 1),\n",
    "        (21, 0), (21, 1), (25, 23), (25, 24), (27, 2), (27, 23),\n",
    "        (27, 24), (28, 2), (29, 23), (29, 26), (30, 1), (30, 8),\n",
    "        (31, 0), (31, 24), (31, 25), (31, 28), (32, 2), (32, 8),\n",
    "        (32, 14), (32, 15), (32, 18), (32, 20), (32, 22), (32, 23),\n",
    "        (32, 29), (32, 30), (32, 31), (33, 8), (33, 9), (33, 13),\n",
    "        (33, 14), (33, 15), (33, 18), (33, 19), (33, 20), (33, 22),\n",
    "        (33, 23), (33, 26), (33, 27), (33, 28), (33, 29), (33, 30),\n",
    "        (33, 31), (33, 32)]\n",
    "src, dst = tuple(zip(*edge_list))\n",
    "g.add_edges(src, dst)\n",
    "g.add_edges(dst, src)"
   ]
  },
  {
   "cell_type": "code",
   "execution_count": 3,
   "metadata": {},
   "outputs": [],
   "source": [
    "# third add some features to nodes\n",
    "g.ndata['feats'] = torch.eye(34)\n",
    "labeled_nodes = torch.tensor([0, 33])\n",
    "labeled_labels = torch.tensor([0, 1])\n",
    "# fourth create initial inputs\n",
    "inputs = torch.eye(34)"
   ]
  },
  {
   "cell_type": "code",
   "execution_count": 4,
   "metadata": {},
   "outputs": [],
   "source": [
    "# ----------- 2. create model -------------- #\n",
    "# build a two layer GCN\n",
    "class GCN(nn.Module):\n",
    "    def __init__(self, in_feats, h_feats, num_classes):\n",
    "        super(GCN, self).__init__()\n",
    "#         if activation == None:\n",
    "#             activation = F.relu\n",
    "        self.gcn_layer1 = GraphConv(in_feats, h_feats)\n",
    "        self.gcn_layer2 = GraphConv(h_feats, num_classes)\n",
    "    \n",
    "    def forward(self, g, in_feat):\n",
    "        h = self.gcn_layer1(g, in_feat)\n",
    "        h = F.relu(h)\n",
    "        h = self.gcn_layer2(g, h)\n",
    "        return h\n",
    "    \n",
    "# create a GCN with given dimensions \n",
    "net = GCN(34, 16, 2)"
   ]
  },
  {
   "cell_type": "code",
   "execution_count": null,
   "metadata": {},
   "outputs": [],
   "source": [
    "# ----------- 3. set up loss and optimizer -------------- #\n",
    "# in this case, loss will in training loop\n",
    "optimizer = optim.Adam(net.parameters(), lr=0.01)\n",
    "\n",
    "# ----------- 4. traing ------------- #\n",
    "for e in range(40):\n",
    "    logits = net(g, inputs)\n",
    "    \n",
    "    # compute loss\n",
    "    logp = F.log_softmax(logits, 1)\n",
    "    loss = F.nll_loss(logp[labeled_nodes], labeled_labels)\n",
    "    \n",
    "    # backpropagation\n",
    "    optimizer.zero_grad()\n",
    "    loss.backward()\n",
    "    optimizer.step()\n",
    "    \n",
    "    print('In epoch {}, loss: {}'.format(e, loss))"
   ]
  },
  {
   "cell_type": "code",
   "execution_count": null,
   "metadata": {},
   "outputs": [],
   "source": []
  },
  {
   "cell_type": "code",
   "execution_count": 5,
   "metadata": {
    "scrolled": true
   },
   "outputs": [
    {
     "name": "stdout",
     "output_type": "stream",
     "text": [
      "In epoch 0, loss: 0.7104997634887695\n",
      "In epoch 1, loss: 0.6838003396987915\n",
      "In epoch 2, loss: 0.6629501581192017\n",
      "In epoch 3, loss: 0.6447422504425049\n",
      "In epoch 4, loss: 0.627848744392395\n",
      "In epoch 5, loss: 0.6115652322769165\n",
      "In epoch 6, loss: 0.5942103266716003\n",
      "In epoch 7, loss: 0.5763446092605591\n",
      "In epoch 8, loss: 0.5582635402679443\n",
      "In epoch 9, loss: 0.5393538475036621\n",
      "In epoch 10, loss: 0.5194204449653625\n",
      "In epoch 11, loss: 0.49799326062202454\n",
      "In epoch 12, loss: 0.4752960205078125\n",
      "In epoch 13, loss: 0.451964795589447\n",
      "In epoch 14, loss: 0.428019642829895\n",
      "In epoch 15, loss: 0.40288984775543213\n",
      "In epoch 16, loss: 0.3768406808376312\n",
      "In epoch 17, loss: 0.35059037804603577\n",
      "In epoch 18, loss: 0.3250768184661865\n",
      "In epoch 19, loss: 0.29963386058807373\n",
      "In epoch 20, loss: 0.2741641402244568\n",
      "In epoch 21, loss: 0.24918541312217712\n",
      "In epoch 22, loss: 0.22496524453163147\n",
      "In epoch 23, loss: 0.20184579491615295\n",
      "In epoch 24, loss: 0.17940904200077057\n",
      "In epoch 25, loss: 0.1583772599697113\n",
      "In epoch 26, loss: 0.13902637362480164\n",
      "In epoch 27, loss: 0.12186184525489807\n",
      "In epoch 28, loss: 0.10644848644733429\n",
      "In epoch 29, loss: 0.09284336864948273\n",
      "In epoch 30, loss: 0.08093872666358948\n",
      "In epoch 31, loss: 0.07042773813009262\n",
      "In epoch 32, loss: 0.06115920841693878\n",
      "In epoch 33, loss: 0.05302421748638153\n",
      "In epoch 34, loss: 0.0459393635392189\n",
      "In epoch 35, loss: 0.03982511907815933\n",
      "In epoch 36, loss: 0.0345873162150383\n",
      "In epoch 37, loss: 0.030099384486675262\n",
      "In epoch 38, loss: 0.026279181241989136\n",
      "In epoch 39, loss: 0.02303309738636017\n"
     ]
    }
   ],
   "source": []
  },
  {
   "cell_type": "markdown",
   "metadata": {},
   "source": [
    "## Basic operations on DGL graph\n",
    "\n",
    "1. Generate graphs in different ways and save\n",
    "2. Explore graph structures and different types of graphs\n",
    "3. Assign features to nodes/edges\n",
    "4. Message passing function and Reduce(Aggregation) function"
   ]
  },
  {
   "cell_type": "code",
   "execution_count": 12,
   "metadata": {},
   "outputs": [],
   "source": [
    "# save data with networkx help\n",
    "nx_g = g.to_networkx()\n",
    "nx.write_edgelist(nx_g, 'karat_club.txt', delimiter=',', data=False)\n",
    "\n",
    "# read edge list data into DGL graph data\n",
    "edgelist = pd.read_csv('karat_club.txt')"
   ]
  },
  {
   "cell_type": "code",
   "execution_count": 15,
   "metadata": {},
   "outputs": [
    {
     "data": {
      "text/html": [
       "<div>\n",
       "<style scoped>\n",
       "    .dataframe tbody tr th:only-of-type {\n",
       "        vertical-align: middle;\n",
       "    }\n",
       "\n",
       "    .dataframe tbody tr th {\n",
       "        vertical-align: top;\n",
       "    }\n",
       "\n",
       "    .dataframe thead th {\n",
       "        text-align: right;\n",
       "    }\n",
       "</style>\n",
       "<table border=\"1\" class=\"dataframe\">\n",
       "  <thead>\n",
       "    <tr style=\"text-align: right;\">\n",
       "      <th></th>\n",
       "      <th>0</th>\n",
       "      <th>1</th>\n",
       "    </tr>\n",
       "  </thead>\n",
       "  <tbody>\n",
       "    <tr>\n",
       "      <th>150</th>\n",
       "      <td>33</td>\n",
       "      <td>28</td>\n",
       "    </tr>\n",
       "    <tr>\n",
       "      <th>151</th>\n",
       "      <td>33</td>\n",
       "      <td>29</td>\n",
       "    </tr>\n",
       "    <tr>\n",
       "      <th>152</th>\n",
       "      <td>33</td>\n",
       "      <td>30</td>\n",
       "    </tr>\n",
       "    <tr>\n",
       "      <th>153</th>\n",
       "      <td>33</td>\n",
       "      <td>31</td>\n",
       "    </tr>\n",
       "    <tr>\n",
       "      <th>154</th>\n",
       "      <td>33</td>\n",
       "      <td>32</td>\n",
       "    </tr>\n",
       "  </tbody>\n",
       "</table>\n",
       "</div>"
      ],
      "text/plain": [
       "      0   1\n",
       "150  33  28\n",
       "151  33  29\n",
       "152  33  30\n",
       "153  33  31\n",
       "154  33  32"
      ]
     },
     "execution_count": 15,
     "metadata": {},
     "output_type": "execute_result"
    }
   ],
   "source": [
    "edgelist.tail()"
   ]
  },
  {
   "cell_type": "code",
   "execution_count": null,
   "metadata": {},
   "outputs": [],
   "source": []
  },
  {
   "attachments": {},
   "cell_type": "markdown",
   "metadata": {},
   "source": [
    "## Take home exercise\n",
    "\n",
    "Print out each club member’s feature during training"
   ]
  },
  {
   "cell_type": "code",
   "execution_count": null,
   "metadata": {},
   "outputs": [],
   "source": []
  }
 ],
 "metadata": {
  "kernelspec": {
   "display_name": "Python [conda env:dgl]",
   "language": "python",
   "name": "conda-env-dgl-py"
  },
  "language_info": {
   "codemirror_mode": {
    "name": "ipython",
    "version": 3
   },
   "file_extension": ".py",
   "mimetype": "text/x-python",
   "name": "python",
   "nbconvert_exporter": "python",
   "pygments_lexer": "ipython3",
   "version": "3.6.10"
  }
 },
 "nbformat": 4,
 "nbformat_minor": 2
}
