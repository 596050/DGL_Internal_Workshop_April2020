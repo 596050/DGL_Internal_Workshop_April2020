{
 "cells": [
  {
   "cell_type": "markdown",
   "metadata": {},
   "source": [
    "# DGL 101: Use DGL to implement a simple node classification with Karat Club data\n",
    "\n",
    "Almost every computer 101 class starts with a \"Hello World\" example. Like MNIST for deep learning, in graph study domain we have the Zachary's Karate Club problem. The karate club is a social network that includes 34 members and documents pairwise links between members who interact outside the club. The club later divides into two communities led by the instructor and the club president. The network is visualized as follows with the color indicating the community.\n",
    "<img src='./images/karat_club.png' align='center' width=\"400px\" height=\"300px\" />\n",
    "The club is used as a typical node classification task, which purely leverage graph structure information. In this tutorial, we will use Graph Convolutional Network, a basic Graph Neural Network, to do node classification.\n",
    "\n",
    "You will learn:\n",
    "- How to define a graph, adding nodes and edges;\n",
    "- How to setup features and labels for nodes;\n",
    "- How to define a GCN model using DGL's building modules;\n",
    "- How to train the GCN model, and\n",
    "- How to check the results\n",
    "\n",
    "Notice: this tutorial is using PyTorch as backend. You can find MXNet version GCN in <a href='https://github.com/dmlc/dgl/blob/master/examples/mxnet/gcn/gcn.py'>here</a> and TensorFlow version in <a href='https://github.com/dmlc/dgl/blob/master/examples/tensorflow/gcn/gcn.py'>here</a>. And more examples could be found in our <a href=\"https://github.com/dmlc/dgl/examples\">github link</a>.\n",
    "<!--\n",
    "### 使用DGL的实现简单的节点分类 \n",
    "-->"
   ]
  },
  {
   "cell_type": "code",
   "execution_count": 1,
   "metadata": {},
   "outputs": [
    {
     "name": "stdout",
     "output_type": "stream",
     "text": [
      "0.4.3\n"
     ]
    }
   ],
   "source": [
    "import torch\n",
    "import torch.nn as nn\n",
    "import torch.nn.functional as F\n",
    "from torch import optim\n",
    "import dgl\n",
    "from dgl.nn.pytorch import GraphConv\n",
    "import dgl.function as fn\n",
    "import networkx as nx\n",
    "import pandas as pd\n",
    "import numpy as np\n",
    "\n",
    "print(dgl.__version__)"
   ]
  },
  {
   "cell_type": "markdown",
   "metadata": {},
   "source": [
    "## DGL 101: Karate Club Classification\n",
    "\n",
    "Here we use PyTorch to implement a node classification algorithm. Basically, below codes include 5 steps."
   ]
  },
  {
   "cell_type": "code",
   "execution_count": 2,
   "metadata": {},
   "outputs": [],
   "source": [
    "# five steps of training \n",
    "# ----------- 1. create graph and features ------ #\n",
    "# first, create the graph\n",
    "g = dgl.DGLGraph()\n",
    "g.add_nodes(34)\n",
    "\n",
    "# second, add edges\n",
    "edge_list = [(1, 0), (2, 0), (2, 1), (3, 0), (3, 1), (3, 2),\n",
    "        (4, 0), (5, 0), (6, 0), (6, 4), (6, 5), (7, 0), (7, 1),\n",
    "        (7, 2), (7, 3), (8, 0), (8, 2), (9, 2), (10, 0), (10, 4),\n",
    "        (10, 5), (11, 0), (12, 0), (12, 3), (13, 0), (13, 1), (13, 2),\n",
    "        (13, 3), (16, 5), (16, 6), (17, 0), (17, 1), (19, 0), (19, 1),\n",
    "        (21, 0), (21, 1), (25, 23), (25, 24), (27, 2), (27, 23),\n",
    "        (27, 24), (28, 2), (29, 23), (29, 26), (30, 1), (30, 8),\n",
    "        (31, 0), (31, 24), (31, 25), (31, 28), (32, 2), (32, 8),\n",
    "        (32, 14), (32, 15), (32, 18), (32, 20), (32, 22), (32, 23),\n",
    "        (32, 29), (32, 30), (32, 31), (33, 8), (33, 9), (33, 13),\n",
    "        (33, 14), (33, 15), (33, 18), (33, 19), (33, 20), (33, 22),\n",
    "        (33, 23), (33, 26), (33, 27), (33, 28), (33, 29), (33, 30),\n",
    "        (33, 31), (33, 32)]\n",
    "src, dst = tuple(zip(*edge_list))\n",
    "g.add_edges(src, dst)\n",
    "g.add_edges(dst, src)"
   ]
  },
  {
   "cell_type": "code",
   "execution_count": 3,
   "metadata": {},
   "outputs": [],
   "source": [
    "# third add some features to nodes\n",
    "g.ndata['feats'] = torch.eye(34)\n",
    "labeled_nodes = torch.tensor([0, 33])\n",
    "labeled_labels = torch.tensor([0, 1])\n",
    "# fourth create initial inputs\n",
    "inputs = torch.eye(34)"
   ]
  },
  {
   "cell_type": "code",
   "execution_count": 4,
   "metadata": {},
   "outputs": [],
   "source": [
    "# ----------- 2. create model -------------- #\n",
    "# build a two layer GCN\n",
    "class GCN(nn.Module):\n",
    "    def __init__(self, in_feats, h_feats, num_classes):\n",
    "        super(GCN, self).__init__()\n",
    "#         if activation == None:\n",
    "#             activation = F.relu\n",
    "        self.gcn_layer1 = GraphConv(in_feats, h_feats)\n",
    "        self.gcn_layer2 = GraphConv(h_feats, num_classes)\n",
    "    \n",
    "    def forward(self, g, in_feat):\n",
    "        h = self.gcn_layer1(g, in_feat)\n",
    "        h = F.relu(h)\n",
    "        h = self.gcn_layer2(g, h)\n",
    "        return h\n",
    "    \n",
    "# create a GCN with given dimensions \n",
    "net = GCN(34, 16, 2)"
   ]
  },
  {
   "cell_type": "code",
   "execution_count": 5,
   "metadata": {
    "scrolled": true
   },
   "outputs": [
    {
     "name": "stdout",
     "output_type": "stream",
     "text": [
      "In epoch 0, loss: 0.6628820300102234\n",
      "In epoch 1, loss: 0.6366796493530273\n",
      "In epoch 2, loss: 0.6087723970413208\n",
      "In epoch 3, loss: 0.5795037746429443\n",
      "In epoch 4, loss: 0.5500038862228394\n",
      "In epoch 5, loss: 0.5205397605895996\n",
      "In epoch 6, loss: 0.49064093828201294\n",
      "In epoch 7, loss: 0.4591338634490967\n",
      "In epoch 8, loss: 0.4272027313709259\n",
      "In epoch 9, loss: 0.3962421715259552\n",
      "In epoch 10, loss: 0.3670524060726166\n",
      "In epoch 11, loss: 0.3390410840511322\n",
      "In epoch 12, loss: 0.3119989335536957\n",
      "In epoch 13, loss: 0.28574976325035095\n",
      "In epoch 14, loss: 0.26048415899276733\n",
      "In epoch 15, loss: 0.23621729016304016\n",
      "In epoch 16, loss: 0.21323105692863464\n",
      "In epoch 17, loss: 0.19137248396873474\n",
      "In epoch 18, loss: 0.17083191871643066\n",
      "In epoch 19, loss: 0.15199896693229675\n",
      "In epoch 20, loss: 0.1346510946750641\n",
      "In epoch 21, loss: 0.11884148418903351\n",
      "In epoch 22, loss: 0.10438705235719681\n",
      "In epoch 23, loss: 0.09142228215932846\n",
      "In epoch 24, loss: 0.07982584834098816\n",
      "In epoch 25, loss: 0.0695841982960701\n",
      "In epoch 26, loss: 0.0605536624789238\n",
      "In epoch 27, loss: 0.05268765240907669\n",
      "In epoch 28, loss: 0.04582226276397705\n",
      "In epoch 29, loss: 0.03988822177052498\n"
     ]
    }
   ],
   "source": [
    "# ----------- 3. set up loss and optimizer -------------- #\n",
    "# in this case, loss will in training loop\n",
    "optimizer = optim.Adam(net.parameters(), lr=0.01)\n",
    "\n",
    "# ----------- 4. traing -------------------------------- #\n",
    "for e in range(30):\n",
    "    logits = net(g, inputs)\n",
    "    \n",
    "    # compute loss\n",
    "    logp = F.log_softmax(logits, 1)\n",
    "    loss = F.nll_loss(logp[labeled_nodes], labeled_labels)\n",
    "    \n",
    "    # backpropagation\n",
    "    optimizer.zero_grad()\n",
    "    loss.backward()\n",
    "    optimizer.step()\n",
    "    \n",
    "    print('In epoch {}, loss: {}'.format(e, loss))"
   ]
  },
  {
   "cell_type": "code",
   "execution_count": 6,
   "metadata": {},
   "outputs": [
    {
     "name": "stdout",
     "output_type": "stream",
     "text": [
      "[0 0 1 0 0 0 0 0 1 0 0 0 0 0 1 1 0 0 1 0 1 0 1 1 1 1 1 1 0 1 1 1 1 1]\n"
     ]
    }
   ],
   "source": [
    "# ----------- 5. check results ------------------------ #\n",
    "pred = torch.argmax(logits, axis=1)\n",
    "print(pred.numpy())"
   ]
  },
  {
   "cell_type": "markdown",
   "metadata": {
    "scrolled": true
   },
   "source": [
    "### visualize the results (This is NOT above training)\n",
    "We store nodes' classification results in each epoch, and then visualize them in a gif image. So we can see how the results changes during training. You will have a take-home exercise to figure out how to do this.\n",
    "<img src='./images/classification.gif' align='center' width=\"600px\" height=\"300px\" />"
   ]
  },
  {
   "cell_type": "markdown",
   "metadata": {},
   "source": [
    "### Save graph into a txt file and Read it back"
   ]
  },
  {
   "cell_type": "code",
   "execution_count": 7,
   "metadata": {},
   "outputs": [],
   "source": [
    "# save data with networkx help\n",
    "nx_g = g.to_networkx()\n",
    "nx.write_edgelist(nx_g, 'karat_club.txt', delimiter=',', data=False)\n",
    "\n",
    "# read edge list data into DGL graph data\n",
    "edgelist = pd.read_csv('karat_club.txt')"
   ]
  },
  {
   "cell_type": "code",
   "execution_count": 8,
   "metadata": {},
   "outputs": [
    {
     "data": {
      "text/html": [
       "<div>\n",
       "<style scoped>\n",
       "    .dataframe tbody tr th:only-of-type {\n",
       "        vertical-align: middle;\n",
       "    }\n",
       "\n",
       "    .dataframe tbody tr th {\n",
       "        vertical-align: top;\n",
       "    }\n",
       "\n",
       "    .dataframe thead th {\n",
       "        text-align: right;\n",
       "    }\n",
       "</style>\n",
       "<table border=\"1\" class=\"dataframe\">\n",
       "  <thead>\n",
       "    <tr style=\"text-align: right;\">\n",
       "      <th></th>\n",
       "      <th>0</th>\n",
       "      <th>1</th>\n",
       "    </tr>\n",
       "  </thead>\n",
       "  <tbody>\n",
       "    <tr>\n",
       "      <th>153</th>\n",
       "      <td>33</td>\n",
       "      <td>31</td>\n",
       "    </tr>\n",
       "    <tr>\n",
       "      <th>154</th>\n",
       "      <td>33</td>\n",
       "      <td>32</td>\n",
       "    </tr>\n",
       "  </tbody>\n",
       "</table>\n",
       "</div>"
      ],
      "text/plain": [
       "      0   1\n",
       "153  33  31\n",
       "154  33  32"
      ]
     },
     "execution_count": 8,
     "metadata": {},
     "output_type": "execute_result"
    }
   ],
   "source": [
    "edgelist.tail(2)"
   ]
  },
  {
   "cell_type": "code",
   "execution_count": 9,
   "metadata": {},
   "outputs": [
    {
     "name": "stdout",
     "output_type": "stream",
     "text": [
      "[(0, 2), (0, 3), (0, 4), (0, 5), (0, 6), (0, 7), (0, 8), (0, 10), (0, 11), (0, 12), (0, 13), (0, 17), (0, 19), (0, 21), (0, 31), (1, 0), (1, 2), (1, 3), (1, 7), (1, 13), (1, 17), (1, 19), (1, 21), (1, 30), (2, 0), (2, 1), (2, 3), (2, 7), (2, 8), (2, 9), (2, 13), (2, 27), (2, 28), (2, 32), (3, 0), (3, 1), (3, 2), (3, 7), (3, 12), (3, 13), (4, 0), (4, 6), (4, 10), (5, 0), (5, 6), (5, 10), (5, 16), (6, 0), (6, 4), (6, 5), (6, 16), (7, 0), (7, 1), (7, 2), (7, 3), (8, 0), (8, 2), (8, 30), (8, 32), (8, 33), (9, 2), (9, 33), (10, 0), (10, 4), (10, 5), (11, 0), (12, 0), (12, 3), (13, 0), (13, 1), (13, 2), (13, 3), (13, 33), (14, 32), (14, 33), (15, 32), (15, 33), (16, 5), (16, 6), (17, 0), (17, 1), (18, 32), (18, 33), (19, 0), (19, 1), (19, 33), (20, 32), (20, 33), (21, 0), (21, 1), (22, 32), (22, 33), (23, 25), (23, 27), (23, 29), (23, 32), (23, 33), (24, 25), (24, 27), (24, 31), (25, 23), (25, 24), (25, 31), (26, 29), (26, 33), (27, 2), (27, 23), (27, 24), (27, 33), (28, 2), (28, 31), (28, 33), (29, 23), (29, 26), (29, 32), (29, 33), (30, 1), (30, 8), (30, 32), (30, 33), (31, 0), (31, 24), (31, 25), (31, 28), (31, 32), (31, 33), (32, 2), (32, 8), (32, 14), (32, 15), (32, 18), (32, 20), (32, 22), (32, 23), (32, 29), (32, 30), (32, 31), (32, 33), (33, 8), (33, 9), (33, 13), (33, 14), (33, 15), (33, 18), (33, 19), (33, 20), (33, 22), (33, 23), (33, 26), (33, 27), (33, 28), (33, 29), (33, 30), (33, 31), (33, 32)]\n"
     ]
    }
   ],
   "source": [
    "# create edge list tuples and give it to a dgl graph\n",
    "src = edgelist['0'].values\n",
    "dst = edgelist['1'].values\n",
    "\n",
    "edges = list(zip(src, dst))\n",
    "print(edges)\n",
    "\n",
    "graph = dgl.DGLGraph(edges)"
   ]
  },
  {
   "cell_type": "markdown",
   "metadata": {},
   "source": [
    "### Take home exercise\n",
    "\n",
    "Print out each club member’s feature during training"
   ]
  },
  {
   "cell_type": "code",
   "execution_count": null,
   "metadata": {},
   "outputs": [],
   "source": []
  },
  {
   "cell_type": "markdown",
   "metadata": {},
   "source": [
    "## Basic operations on DGL graph\n",
    "\n",
    "1. Generate graphs in different ways and save\n",
    "2. Explore graph information and structures\n",
    "3. Assign features to nodes/edges\n",
    "4. Message passing function and Reduce(Aggregation) function\n",
    "\n",
    "Data is based on the sample graph in a real paper. This is a bipartite graph. It has 2 types of nodes: User and Item, one type of edge: comment_on. For DGL, we need one more type of edge, commented_by.\n",
    "Data sample will be:\n",
    "<img src='./images/XY-Test-Data.png' width=40%>\n",
    "- comment_on: [(0,0),(1,0),(2,0),(1,1),(1,2),(3,1),(4,1),(4,2)]\n",
    "- commented_by: [(0,0),(0,1),(0,2),(1,1),(2,1),(1,3),(1,4),(2,4)]"
   ]
  },
  {
   "cell_type": "markdown",
   "metadata": {},
   "source": [
    "### 1. Generate a heterogenous DGL graph"
   ]
  },
  {
   "cell_type": "code",
   "execution_count": 10,
   "metadata": {},
   "outputs": [],
   "source": [
    "# Use two bipartitie graph to build this heterograph\n",
    "co_g = dgl.bipartite([(0,0),(1,0),(2,0),(1,1),(1,2),(3,1),(4,1),(4,2)], 'user', 'comment_on', 'item')\n",
    "cb_g = dgl.bipartite([(0,0),(0,1),(0,2),(1,1),(2,1),(1,3),(1,4),(2,4)], 'item', 'commented_by', 'user')\n",
    "\n",
    "graph = dgl.hetero_from_relations([co_g, cb_g])"
   ]
  },
  {
   "cell_type": "markdown",
   "metadata": {},
   "source": [
    "### 2. Before go further, let's check the basic data structure of DGL graph"
   ]
  },
  {
   "cell_type": "code",
   "execution_count": 11,
   "metadata": {},
   "outputs": [
    {
     "name": "stdout",
     "output_type": "stream",
     "text": [
      "['item', 'user']\n",
      "['comment_on', 'commented_by']\n"
     ]
    }
   ],
   "source": [
    "# These two are list type features\n",
    "print(graph.ntypes)\n",
    "print(graph.etypes)"
   ]
  },
  {
   "cell_type": "code",
   "execution_count": 12,
   "metadata": {},
   "outputs": [
    {
     "name": "stdout",
     "output_type": "stream",
     "text": [
      "[('user', 'comment_on', 'item'), ('item', 'commented_by', 'user')]\n"
     ]
    }
   ],
   "source": [
    "# This is a tuple list\n",
    "print(graph.canonical_etypes)"
   ]
  },
  {
   "cell_type": "code",
   "execution_count": 13,
   "metadata": {},
   "outputs": [
    {
     "name": "stdout",
     "output_type": "stream",
     "text": [
      "1\n",
      "0\n"
     ]
    }
   ],
   "source": [
    "# Now check the id list in each type\n",
    "print(graph.get_ntype_id('user'))\n",
    "print(graph.get_ntype_id('item'))"
   ]
  },
  {
   "cell_type": "code",
   "execution_count": 14,
   "metadata": {},
   "outputs": [
    {
     "name": "stdout",
     "output_type": "stream",
     "text": [
      "5\n",
      "3\n",
      "8\n",
      "8\n"
     ]
    }
   ],
   "source": [
    "# Get nodes and edges information\n",
    "print(graph.number_of_nodes('user'))\n",
    "print(graph.number_of_nodes('item'))\n",
    "print(graph.number_of_edges('comment_on'))\n",
    "print(graph.number_of_edges('commented_by'))"
   ]
  },
  {
   "cell_type": "code",
   "execution_count": 15,
   "metadata": {},
   "outputs": [
    {
     "data": {
      "text/plain": [
       "(tensor([0, 1, 1, 1, 2, 3, 4, 4]),\n",
       " tensor([0, 0, 1, 2, 0, 1, 1, 2]),\n",
       " tensor([0, 1, 3, 4, 2, 5, 6, 7]))"
      ]
     },
     "execution_count": 15,
     "metadata": {},
     "output_type": "execute_result"
    }
   ],
   "source": [
    "# Get nodes and edges idx\n",
    "graph.all_edges(form='all', order='srcdst', etype='comment_on')"
   ]
  },
  {
   "cell_type": "code",
   "execution_count": 16,
   "metadata": {},
   "outputs": [
    {
     "data": {
      "text/plain": [
       "(tensor([0, 0, 0, 1, 1, 1, 2, 2]),\n",
       " tensor([0, 1, 2, 1, 3, 4, 1, 4]),\n",
       " tensor([0, 1, 2, 3, 5, 6, 4, 7]))"
      ]
     },
     "execution_count": 16,
     "metadata": {},
     "output_type": "execute_result"
    }
   ],
   "source": [
    "graph.all_edges(form='all', order='srcdst', etype='commented_by')"
   ]
  },
  {
   "cell_type": "code",
   "execution_count": 17,
   "metadata": {},
   "outputs": [
    {
     "data": {
      "text/plain": [
       "Graph(num_nodes={'user': 5, 'item': 3},\n",
       "      num_edges={('user', 'comment_on', 'item'): 8},\n",
       "      metagraph=[('user', 'item')])"
      ]
     },
     "execution_count": 17,
     "metadata": {},
     "output_type": "execute_result"
    }
   ],
   "source": [
    "# get a slice of the graph\n",
    "graph['comment_on']"
   ]
  },
  {
   "cell_type": "code",
   "execution_count": 18,
   "metadata": {},
   "outputs": [
    {
     "data": {
      "text/plain": [
       "Graph(num_nodes={'item': 3, 'user': 5},\n",
       "      num_edges={('item', 'commented_by', 'user'): 8},\n",
       "      metagraph=[('item', 'user')])"
      ]
     },
     "execution_count": 18,
     "metadata": {},
     "output_type": "execute_result"
    }
   ],
   "source": [
    "graph['commented_by']"
   ]
  },
  {
   "cell_type": "markdown",
   "metadata": {},
   "source": [
    "### 3. Set features of nodes and edges\n",
    "\n",
    "Need to notice that nodes and edges are VIEW implemented in C++ for speed, so cannot directly see them. However, each type of nodes has a 'data' variable,which is a dict to hold features."
   ]
  },
  {
   "cell_type": "code",
   "execution_count": 19,
   "metadata": {},
   "outputs": [
    {
     "name": "stdout",
     "output_type": "stream",
     "text": [
      "<dgl.view.HeteroNodeView object at 0x134a55f98>\n",
      "<dgl.view.HeteroEdgeView object at 0x134d44438>\n"
     ]
    }
   ],
   "source": [
    "# Nodes and Edges are VIEW\n",
    "print(graph.nodes)\n",
    "print(graph.edges)"
   ]
  },
  {
   "cell_type": "code",
   "execution_count": 20,
   "metadata": {},
   "outputs": [
    {
     "name": "stdout",
     "output_type": "stream",
     "text": [
      "{}\n",
      "{}\n"
     ]
    }
   ],
   "source": [
    "# The basic feature of nodes is an empty dict in the 'data' variable.\n",
    "print(graph.nodes['user'].data)\n",
    "print(graph.nodes['item'].data)"
   ]
  },
  {
   "cell_type": "code",
   "execution_count": 21,
   "metadata": {},
   "outputs": [
    {
     "name": "stdout",
     "output_type": "stream",
     "text": [
      "{}\n",
      "{}\n"
     ]
    }
   ],
   "source": [
    "print(graph.edges['comment_on'].data)\n",
    "print(graph.edges['commented_by'].data)"
   ]
  },
  {
   "cell_type": "markdown",
   "metadata": {},
   "source": [
    "#### We have 5 user nodes, 4 item nodes, and 8 edges in two directions\n",
    "<p>\n",
    "<font color='red'>Notice: when set features, must use the same number nodes/edges. Otherwise, you will get an error, like \"DGLError: Expect number of features to match number of nodes (len(u)). Got 2 and 5 instead.\"</font>"
   ]
  },
  {
   "cell_type": "code",
   "execution_count": 22,
   "metadata": {},
   "outputs": [],
   "source": [
    "graph.nodes['user'].data['nu_f_1'] = torch.ones(5,2)\n",
    "graph.edges['comment_on'].data['eco_f_1'] = torch.ones(8,2)"
   ]
  },
  {
   "cell_type": "code",
   "execution_count": 23,
   "metadata": {},
   "outputs": [
    {
     "data": {
      "text/plain": [
       "tensor([[1., 1.],\n",
       "        [1., 1.],\n",
       "        [1., 1.],\n",
       "        [1., 1.],\n",
       "        [1., 1.]])"
      ]
     },
     "execution_count": 23,
     "metadata": {},
     "output_type": "execute_result"
    }
   ],
   "source": [
    "graph.nodes['user'].data['nu_f_1']"
   ]
  },
  {
   "cell_type": "code",
   "execution_count": 24,
   "metadata": {},
   "outputs": [
    {
     "data": {
      "text/plain": [
       "tensor([[1., 1.],\n",
       "        [1., 1.],\n",
       "        [1., 1.],\n",
       "        [1., 1.],\n",
       "        [1., 1.],\n",
       "        [1., 1.],\n",
       "        [1., 1.],\n",
       "        [1., 1.]])"
      ]
     },
     "execution_count": 24,
     "metadata": {},
     "output_type": "execute_result"
    }
   ],
   "source": [
    "graph.edges['comment_on'].data['eco_f_1']"
   ]
  },
  {
   "cell_type": "markdown",
   "metadata": {},
   "source": [
    "### 4. Message-passing and reduction\n",
    "\n",
    "#### Here we use designed features to demo how to use DGL build_in functions\n",
    "\n",
    "- User node: 2-d, values are aligned with idx, e.g. node-0 is [0,0], node-1 is [1,1], and so on so forth.\n",
    "- Item node: 2-d, values are aligned with idx but with negative, e.g. node-0 is [0,0], node-1 is [-1,-1], and so on so forth.\n",
    "- Edge: 2-d, for both comment_on and commented_by, values are aligned with idx but 0.10 times smaller, e.g, edge-0 is [0,0], edge-1 is [0.1,0.1], and so on so forth"
   ]
  },
  {
   "cell_type": "code",
   "execution_count": 25,
   "metadata": {},
   "outputs": [
    {
     "data": {
      "text/plain": [
       "tensor([[1., 1.],\n",
       "        [1., 1.],\n",
       "        [1., 1.],\n",
       "        [1., 1.],\n",
       "        [1., 1.],\n",
       "        [1., 1.],\n",
       "        [1., 1.],\n",
       "        [1., 1.]])"
      ]
     },
     "execution_count": 25,
     "metadata": {},
     "output_type": "execute_result"
    }
   ],
   "source": [
    "# let's delete previous dummy data, only can run once\n",
    "graph.nodes['user'].data.pop('nu_f_1')\n",
    "graph.edges['comment_on'].data.pop('eco_f_1')"
   ]
  },
  {
   "cell_type": "code",
   "execution_count": 26,
   "metadata": {},
   "outputs": [
    {
     "data": {
      "text/plain": [
       "{'u': tensor([[0., 0.],\n",
       "        [1., 1.],\n",
       "        [2., 2.],\n",
       "        [3., 3.],\n",
       "        [4., 4.]])}"
      ]
     },
     "execution_count": 26,
     "metadata": {},
     "output_type": "execute_result"
    }
   ],
   "source": [
    "user_feats = np.ones([5,2]) * np.arange(5).reshape(5,1)\n",
    "graph.nodes['user'].data['u'] = torch.from_numpy(user_feats).float()\n",
    "graph.nodes['user'].data"
   ]
  },
  {
   "cell_type": "code",
   "execution_count": 27,
   "metadata": {},
   "outputs": [
    {
     "data": {
      "text/plain": [
       "{'i': tensor([[-0., -0.],\n",
       "        [-1., -1.],\n",
       "        [-2., -2.]])}"
      ]
     },
     "execution_count": 27,
     "metadata": {},
     "output_type": "execute_result"
    }
   ],
   "source": [
    "item_feats = np.ones([3,2]) * np.arange(3).reshape(3,1) * -1\n",
    "graph.nodes['item'].data['i'] = torch.from_numpy(item_feats).float()\n",
    "graph.nodes['item'].data"
   ]
  },
  {
   "cell_type": "code",
   "execution_count": 28,
   "metadata": {},
   "outputs": [
    {
     "data": {
      "text/plain": [
       "{'e': tensor([[0.0000, 0.0000],\n",
       "        [0.1000, 0.1000],\n",
       "        [0.2000, 0.2000],\n",
       "        [0.3000, 0.3000],\n",
       "        [0.4000, 0.4000],\n",
       "        [0.5000, 0.5000],\n",
       "        [0.6000, 0.6000],\n",
       "        [0.7000, 0.7000]])}"
      ]
     },
     "execution_count": 28,
     "metadata": {},
     "output_type": "execute_result"
    }
   ],
   "source": [
    "edge_feats = np.ones([8,2]) * np.arange(8).reshape(8,1) * 0.1\n",
    "graph.edges['comment_on'].data['e'] = torch.from_numpy(edge_feats).float()\n",
    "graph.edges['commented_by'].data['e'] = torch.from_numpy(edge_feats).float()\n",
    "graph.edges['comment_on'].data"
   ]
  },
  {
   "cell_type": "markdown",
   "metadata": {},
   "source": [
    "### 4.1 Let's mimic passing feature from users to items, and aggregate them with mean values"
   ]
  },
  {
   "cell_type": "markdown",
   "metadata": {},
   "source": [
    "<img src='./images/XY-Test-Data.png' width=30%>"
   ]
  },
  {
   "cell_type": "markdown",
   "metadata": {},
   "source": [
    "In our example, this means:\n",
    "- average U0, U1, and U2 features, and add to I0 feature; \n",
    "- average U1, U3, and U4 features, and add to I1; \n",
    "- average U1 and U4 features, and add to I2.\n",
    "\n",
    "DGL has a build-in function \"up_date_all\" to do message-passing and aggregation in one step."
   ]
  },
  {
   "cell_type": "code",
   "execution_count": 32,
   "metadata": {},
   "outputs": [
    {
     "data": {
      "text/plain": [
       "{'i': tensor([[1.0000, 1.0000],\n",
       "        [1.6667, 1.6667],\n",
       "        [0.5000, 0.5000]]), 'u_avg': tensor([[1.0000, 1.0000],\n",
       "        [2.6667, 2.6667],\n",
       "        [2.5000, 2.5000]])}"
      ]
     },
     "execution_count": 32,
     "metadata": {},
     "output_type": "execute_result"
    }
   ],
   "source": [
    "# Step 1: copy users' feature to items, average them, and then store at a dictionary named by \"u_avg\"\n",
    "graph.update_all(fn.copy_u('u', 'm'), fn.mean('m', 'u_avg'), etype='comment_on')\n",
    "graph.nodes['item'].data"
   ]
  },
  {
   "cell_type": "code",
   "execution_count": 33,
   "metadata": {},
   "outputs": [
    {
     "data": {
      "text/plain": [
       "{'i': tensor([[2.0000, 2.0000],\n",
       "        [4.3333, 4.3333],\n",
       "        [3.0000, 3.0000]]), 'u_avg': tensor([[1.0000, 1.0000],\n",
       "        [2.6667, 2.6667],\n",
       "        [2.5000, 2.5000]])}"
      ]
     },
     "execution_count": 33,
     "metadata": {},
     "output_type": "execute_result"
    }
   ],
   "source": [
    "# Step 2: add the aggregate features to each item node\n",
    "graph.nodes['item'].data['i'] = graph.nodes['item'].data['i'] + graph.nodes['item'].data['u_avg']\n",
    "graph.nodes['item'].data"
   ]
  },
  {
   "cell_type": "markdown",
   "metadata": {},
   "source": [
    "### 4.2 How about include edges' feature?\n",
    "Above we only pass Users' features to Item nodes. But how about include edges feature with the Users, and pass to the Item nodes.\n",
    "\n",
    "This task requires three steps:\n",
    "1. Pass Users' features to \"comment_on\" type of edges, and add these features with edges' features;\n",
    "2. Pass edges' aggregated features to Item nodes, and then agverage them;\n",
    "3. Add the averaged feature to Item own features"
   ]
  },
  {
   "cell_type": "code",
   "execution_count": 34,
   "metadata": {},
   "outputs": [
    {
     "data": {
      "text/plain": [
       "{'e': tensor([[0.0000, 0.0000],\n",
       "        [0.1000, 0.1000],\n",
       "        [0.2000, 0.2000],\n",
       "        [0.3000, 0.3000],\n",
       "        [0.4000, 0.4000],\n",
       "        [0.5000, 0.5000],\n",
       "        [0.6000, 0.6000],\n",
       "        [0.7000, 0.7000]]), 'u_add_e': tensor([[0.0000, 0.0000],\n",
       "        [1.1000, 1.1000],\n",
       "        [2.2000, 2.2000],\n",
       "        [1.3000, 1.3000],\n",
       "        [1.4000, 1.4000],\n",
       "        [3.5000, 3.5000],\n",
       "        [4.6000, 4.6000],\n",
       "        [4.7000, 4.7000]])}"
      ]
     },
     "execution_count": 34,
     "metadata": {},
     "output_type": "execute_result"
    }
   ],
   "source": [
    "# Step 1: add User nodes to \"comment_on\" edges\n",
    "graph.apply_edges(fn.u_add_e('u', 'e', 'u_add_e'), etype='comment_on')\n",
    "graph.edges['comment_on'].data"
   ]
  },
  {
   "cell_type": "code",
   "execution_count": 35,
   "metadata": {},
   "outputs": [
    {
     "data": {
      "text/plain": [
       "{'i': tensor([[2.0000, 2.0000],\n",
       "        [4.3333, 4.3333],\n",
       "        [3.0000, 3.0000]]), 'u_avg': tensor([[1.1000, 1.1000],\n",
       "        [3.1333, 3.1333],\n",
       "        [3.0500, 3.0500]])}"
      ]
     },
     "execution_count": 35,
     "metadata": {},
     "output_type": "execute_result"
    }
   ],
   "source": [
    "# Step 2: pass \"comment_on\" edge features to Item nodes and average them\n",
    "graph.update_all(fn.copy_e('u_add_e', 'm'), fn.mean('m', 'u_avg'), etype='comment_on')\n",
    "graph.nodes['item'].data"
   ]
  },
  {
   "cell_type": "code",
   "execution_count": 36,
   "metadata": {},
   "outputs": [
    {
     "data": {
      "text/plain": [
       "{'i': tensor([[3.1000, 3.1000],\n",
       "        [7.4667, 7.4667],\n",
       "        [6.0500, 6.0500]]), 'u_avg': tensor([[1.1000, 1.1000],\n",
       "        [3.1333, 3.1333],\n",
       "        [3.0500, 3.0500]])}"
      ]
     },
     "execution_count": 36,
     "metadata": {},
     "output_type": "execute_result"
    }
   ],
   "source": [
    "# Step 3: add the aggregate features to each item node\n",
    "graph.nodes['item'].data['i'] = graph.nodes['item'].data['i'] + graph.nodes['item'].data['u_avg']\n",
    "graph.nodes['item'].data"
   ]
  },
  {
   "cell_type": "markdown",
   "metadata": {},
   "source": [
    "### Take_home Exercise: Reverse message passing\n",
    "\n",
    "Please do the reverse message passing. That is, pass the Item nodes' features to User nodes in the same ways demoed above:\n",
    "1. Purely pass Items' features to User nodes;\n",
    "2. Add edges' features with Items, and then pass to User nodes."
   ]
  },
  {
   "cell_type": "code",
   "execution_count": null,
   "metadata": {},
   "outputs": [],
   "source": []
  }
 ],
 "metadata": {
  "kernelspec": {
   "display_name": "Python [conda env:dgl]",
   "language": "python",
   "name": "conda-env-dgl-py"
  },
  "language_info": {
   "codemirror_mode": {
    "name": "ipython",
    "version": 3
   },
   "file_extension": ".py",
   "mimetype": "text/x-python",
   "name": "python",
   "nbconvert_exporter": "python",
   "pygments_lexer": "ipython3",
   "version": "3.6.10"
  }
 },
 "nbformat": 4,
 "nbformat_minor": 2
}
