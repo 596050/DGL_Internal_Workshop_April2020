{
 "cells": [
  {
   "cell_type": "markdown",
   "metadata": {},
   "source": [
    "# DGL 101: Use DGL to implement a simple node classification with Karat Club data\n",
    "\n",
    "Almost every computer 101 class starts with a \"Hello World\" example. Like MNIST for deep learning, in graph study domain we have the Zachary's Karate Club problem. The karate club is a social network that includes 34 members and documents pairwise links between members who interact outside the club. The club later divides into two communities led by the instructor and the club president. The network is visualized as follows with the color indicating the community.\n",
    "<img src='./images/karat_club.png' align='center' width=\"400px\" height=\"300px\" />\n",
    "The club is used as a typical node classification task, which purely leverage graph structure information. In this tutorial, we will use Graph Convolutional Network, a basic Graph Neural Network, to do node classification.\n",
    "\n",
    "You will learn:\n",
    "- How to define a graph, adding nodes and edges;\n",
    "- How to setup features and labels for nodes;\n",
    "- How to define a GCN model using DGL's building modules;\n",
    "- How to train the GCN model, and\n",
    "- How to check the results\n",
    "\n",
    "Notice: this tutorial is using PyTorch as backend. You can find MXNet version GCN in <a href='https://github.com/dmlc/dgl/blob/master/examples/mxnet/gcn/gcn.py'>here</a> and TensorFlow version in <a href='https://github.com/dmlc/dgl/blob/master/examples/tensorflow/gcn/gcn.py'>here</a>. And more examples could be found in our <a href=\"https://github.com/dmlc/dgl/examples\">github link</a>."
   ]
  },
  {
   "cell_type": "code",
   "execution_count": null,
   "metadata": {},
   "outputs": [],
   "source": [
    "import torch\n",
    "import torch.nn as nn\n",
    "import torch.nn.functional as F\n",
    "from torch import optim\n",
    "import dgl\n",
    "from dgl.nn.pytorch import GraphConv\n",
    "import dgl.function as fn\n",
    "import networkx as nx\n",
    "import pandas as pd\n",
    "import numpy as np\n",
    "\n",
    "print(dgl.__version__)"
   ]
  },
  {
   "cell_type": "markdown",
   "metadata": {},
   "source": [
    "## DGL 101: Karate Club Classification\n",
    "\n",
    "Here we use PyTorch to implement a node classification algorithm. Basically, below codes include 5 steps."
   ]
  },
  {
   "cell_type": "code",
   "execution_count": null,
   "metadata": {},
   "outputs": [],
   "source": [
    "# five steps of training \n",
    "# ----------- 1. create graph and features ------ #\n",
    "# first, create the graph\n",
    "g = dgl.DGLGraph()\n",
    "g.add_nodes(34)\n",
    "\n",
    "# second, add edges\n",
    "edge_list = [(1, 0), (2, 0), (2, 1), (3, 0), (3, 1), (3, 2),\n",
    "        (4, 0), (5, 0), (6, 0), (6, 4), (6, 5), (7, 0), (7, 1),\n",
    "        (7, 2), (7, 3), (8, 0), (8, 2), (9, 2), (10, 0), (10, 4),\n",
    "        (10, 5), (11, 0), (12, 0), (12, 3), (13, 0), (13, 1), (13, 2),\n",
    "        (13, 3), (16, 5), (16, 6), (17, 0), (17, 1), (19, 0), (19, 1),\n",
    "        (21, 0), (21, 1), (25, 23), (25, 24), (27, 2), (27, 23),\n",
    "        (27, 24), (28, 2), (29, 23), (29, 26), (30, 1), (30, 8),\n",
    "        (31, 0), (31, 24), (31, 25), (31, 28), (32, 2), (32, 8),\n",
    "        (32, 14), (32, 15), (32, 18), (32, 20), (32, 22), (32, 23),\n",
    "        (32, 29), (32, 30), (32, 31), (33, 8), (33, 9), (33, 13),\n",
    "        (33, 14), (33, 15), (33, 18), (33, 19), (33, 20), (33, 22),\n",
    "        (33, 23), (33, 26), (33, 27), (33, 28), (33, 29), (33, 30),\n",
    "        (33, 31), (33, 32)]\n",
    "src, dst = tuple(zip(*edge_list))\n",
    "g.add_edges(src, dst)\n",
    "g.add_edges(dst, src)"
   ]
  },
  {
   "cell_type": "code",
   "execution_count": null,
   "metadata": {},
   "outputs": [],
   "source": [
    "# third add some features to nodes\n",
    "g.ndata['feats'] = torch.eye(34)\n",
    "\n",
    "# only set up the two labeled nodes to 0 and 1. \n",
    "labeled_nodes = torch.tensor([0, 33])\n",
    "labeled_labels = torch.tensor([0, 1])\n",
    "\n",
    "# fourth create initial inputs, just their own ID in one-hot format\n",
    "inputs = torch.eye(34)"
   ]
  },
  {
   "cell_type": "code",
   "execution_count": null,
   "metadata": {},
   "outputs": [],
   "source": [
    "# ----------- 2. create model -------------- #\n",
    "# build a two layer GCN\n",
    "class GCN(nn.Module):\n",
    "    def __init__(self, in_feats, h_feats, num_classes):\n",
    "        super(GCN, self).__init__()\n",
    "        self.gcn_layer1 = GraphConv(in_feats, h_feats)\n",
    "        self.gcn_layer2 = GraphConv(h_feats, num_classes)\n",
    "    \n",
    "    def forward(self, g, in_feat):\n",
    "        h = self.gcn_layer1(g, in_feat)\n",
    "        h = F.relu(h)\n",
    "        h = self.gcn_layer2(g, h)\n",
    "        return h\n",
    "    \n",
    "# create a GCN with given dimensions \n",
    "# input layer dimension: 34, one-hot ID\n",
    "# hidden layer dimension: 16\n",
    "# output layer dimension: 2, the two classes, 0 and 1\n",
    "net = GCN(34, 16, 2)"
   ]
  },
  {
   "cell_type": "code",
   "execution_count": null,
   "metadata": {
    "scrolled": true
   },
   "outputs": [],
   "source": [
    "# ----------- 3. set up loss and optimizer -------------- #\n",
    "# in this case, loss will in training loop\n",
    "optimizer = optim.Adam(net.parameters(), lr=0.01)\n",
    "\n",
    "# ----------- 4. traing -------------------------------- #\n",
    "for e in range(30):\n",
    "    # forward\n",
    "    logits = net(g, inputs)\n",
    "    \n",
    "    # compute loss\n",
    "    logp = F.log_softmax(logits, 1)\n",
    "    loss = F.nll_loss(logp[labeled_nodes], labeled_labels)\n",
    "    \n",
    "    # backward\n",
    "    optimizer.zero_grad()\n",
    "    loss.backward()\n",
    "    optimizer.step()\n",
    "    \n",
    "    print('In epoch {}, loss: {}'.format(e, loss))"
   ]
  },
  {
   "cell_type": "code",
   "execution_count": null,
   "metadata": {},
   "outputs": [],
   "source": [
    "# ----------- 5. check results ------------------------ #\n",
    "pred = torch.argmax(logits, axis=1)\n",
    "print(pred.numpy())"
   ]
  },
  {
   "cell_type": "markdown",
   "metadata": {
    "scrolled": true
   },
   "source": [
    "### visualize the results (This is NOT above training)\n",
    "We store nodes' classification results in each epoch, and then visualize them in a gif image. So we can see how the results changes during training. You will have a take-home exercise to figure out how to do this.\n",
    "<img src='./images/classification.gif' align='center' width=\"600px\" height=\"300px\" />"
   ]
  },
  {
   "cell_type": "markdown",
   "metadata": {},
   "source": [
    "### Save graph into a txt file and Read it back"
   ]
  },
  {
   "cell_type": "code",
   "execution_count": null,
   "metadata": {},
   "outputs": [],
   "source": [
    "# save data with networkx help\n",
    "nx_g = g.to_networkx()\n",
    "nx.write_edgelist(nx_g, 'karat_club.txt', delimiter=',', data=False)\n",
    "\n",
    "# read edge list data into DGL graph data\n",
    "edgelist = pd.read_csv('karat_club.txt')"
   ]
  },
  {
   "cell_type": "code",
   "execution_count": null,
   "metadata": {},
   "outputs": [],
   "source": [
    "edgelist.tail(2)"
   ]
  },
  {
   "cell_type": "code",
   "execution_count": null,
   "metadata": {},
   "outputs": [],
   "source": [
    "# create edge list tuples and give it to a dgl graph\n",
    "src = edgelist['0'].values\n",
    "dst = edgelist['1'].values\n",
    "\n",
    "edges = list(zip(src, dst))\n",
    "print(edges)\n",
    "\n",
    "graph = dgl.DGLGraph(edges)"
   ]
  },
  {
   "cell_type": "markdown",
   "metadata": {},
   "source": [
    "### Take home exercise\n",
    "\n",
    "Print out each club member’s feature during training"
   ]
  },
  {
   "cell_type": "code",
   "execution_count": null,
   "metadata": {},
   "outputs": [],
   "source": []
  },
  {
   "cell_type": "markdown",
   "metadata": {},
   "source": [
    "## Basic operations on DGL graph\n",
    "\n",
    "1. Generate graphs in different ways and save\n",
    "2. Explore graph information and structures\n",
    "3. Assign features to nodes/edges\n",
    "4. Message passing function and Reduce(Aggregation) function\n",
    "\n",
    "Data is based on the sample graph in a real paper. This is a bipartite graph. It has 2 types of nodes: User and Item, one type of edge: comment_on. For DGL, we need one more type of edge, commented_by.\n",
    "Data sample will be:\n",
    "<img src='./images/XY-Test-Data.png' width=40%>\n",
    "- comment_on: [(0,0),(1,0),(2,0),(1,1),(1,2),(3,1),(4,1),(4,2)]\n",
    "- commented_by: [(0,0),(0,1),(0,2),(1,1),(2,1),(1,3),(1,4),(2,4)]"
   ]
  },
  {
   "cell_type": "markdown",
   "metadata": {},
   "source": [
    "### 1. Generate a heterogenous DGL graph"
   ]
  },
  {
   "cell_type": "code",
   "execution_count": null,
   "metadata": {},
   "outputs": [],
   "source": [
    "# Use two bipartitie graph to build this heterograph\n",
    "co_g = dgl.bipartite([(0,0),(1,0),(2,0),(1,1),(1,2),(3,1),(4,1),(4,2)], 'user', 'comment_on', 'item')\n",
    "cb_g = dgl.bipartite([(0,0),(0,1),(0,2),(1,1),(2,1),(1,3),(1,4),(2,4)], 'item', 'commented_by', 'user')\n",
    "\n",
    "graph = dgl.hetero_from_relations([co_g, cb_g])"
   ]
  },
  {
   "cell_type": "markdown",
   "metadata": {},
   "source": [
    "### 2. Before go further, let's check the basic data structure of DGL graph"
   ]
  },
  {
   "cell_type": "code",
   "execution_count": null,
   "metadata": {},
   "outputs": [],
   "source": [
    "# These two are list type features\n",
    "print(graph.ntypes)\n",
    "print(graph.etypes)"
   ]
  },
  {
   "cell_type": "code",
   "execution_count": null,
   "metadata": {},
   "outputs": [],
   "source": [
    "# This is a tuple list of node types and edge types\n",
    "print(graph.canonical_etypes)"
   ]
  },
  {
   "cell_type": "code",
   "execution_count": null,
   "metadata": {},
   "outputs": [],
   "source": [
    "# Now check the id list in each node type\n",
    "print(graph.get_ntype_id('user'))\n",
    "print(graph.get_ntype_id('item'))"
   ]
  },
  {
   "cell_type": "code",
   "execution_count": null,
   "metadata": {},
   "outputs": [],
   "source": [
    "# Get nodes and edges information\n",
    "print(graph.number_of_nodes('user'))\n",
    "print(graph.number_of_nodes('item'))\n",
    "print(graph.number_of_edges('comment_on'))\n",
    "print(graph.number_of_edges('commented_by'))"
   ]
  },
  {
   "cell_type": "code",
   "execution_count": null,
   "metadata": {},
   "outputs": [],
   "source": [
    "# Get nodes and edges idx\n",
    "graph.all_edges(form='all', order='srcdst', etype='comment_on')"
   ]
  },
  {
   "cell_type": "code",
   "execution_count": null,
   "metadata": {},
   "outputs": [],
   "source": [
    "graph.all_edges(form='all', order='srcdst', etype='commented_by')"
   ]
  },
  {
   "cell_type": "code",
   "execution_count": null,
   "metadata": {},
   "outputs": [],
   "source": [
    "# get a slice of the graph\n",
    "graph['comment_on']"
   ]
  },
  {
   "cell_type": "code",
   "execution_count": null,
   "metadata": {},
   "outputs": [],
   "source": [
    "graph['commented_by']"
   ]
  },
  {
   "cell_type": "markdown",
   "metadata": {},
   "source": [
    "### 3. Set features of nodes and edges\n",
    "\n",
    "Need to notice that nodes and edges are VIEW implemented in C++ for speed, so cannot directly see them. However, each type of nodes has a 'data' variable,which is a dict to hold features."
   ]
  },
  {
   "cell_type": "code",
   "execution_count": null,
   "metadata": {},
   "outputs": [],
   "source": [
    "# Nodes and Edges are VIEW\n",
    "print(graph.nodes)\n",
    "print(graph.edges)"
   ]
  },
  {
   "cell_type": "code",
   "execution_count": null,
   "metadata": {},
   "outputs": [],
   "source": [
    "# The basic feature of nodes is an empty dict in the 'data' variable.\n",
    "print(graph.nodes['user'].data)\n",
    "print(graph.nodes['item'].data)"
   ]
  },
  {
   "cell_type": "code",
   "execution_count": null,
   "metadata": {},
   "outputs": [],
   "source": [
    "print(graph.edges['comment_on'].data)\n",
    "print(graph.edges['commented_by'].data)"
   ]
  },
  {
   "cell_type": "markdown",
   "metadata": {},
   "source": [
    "#### We have 5 user nodes, 4 item nodes, and 8 edges in two directions\n",
    "<p>\n",
    "<font color='red'>Notice: when set features, must use the same number nodes/edges. Otherwise, you will get an error, like \"DGLError: Expect number of features to match number of nodes (len(u)). Got * and * instead.\"</font>"
   ]
  },
  {
   "cell_type": "code",
   "execution_count": null,
   "metadata": {},
   "outputs": [],
   "source": [
    "graph.nodes['user'].data['nu_f_1'] = torch.ones(5,2)\n",
    "graph.edges['comment_on'].data['eco_f_1'] = torch.ones(8,2)"
   ]
  },
  {
   "cell_type": "code",
   "execution_count": null,
   "metadata": {},
   "outputs": [],
   "source": [
    "graph.nodes['user'].data['nu_f_1']"
   ]
  },
  {
   "cell_type": "code",
   "execution_count": null,
   "metadata": {},
   "outputs": [],
   "source": [
    "graph.edges['comment_on'].data['eco_f_1']"
   ]
  },
  {
   "cell_type": "markdown",
   "metadata": {},
   "source": [
    "### 4. Message-passing and reduction\n",
    "\n",
    "#### Here we use designed features to demo how to use DGL build_in functions\n",
    "\n",
    "- User node: 2-d, values are aligned with idx, e.g. node-0 is [0,0], node-1 is [1,1], and so on so forth.\n",
    "- Item node: 2-d, values are aligned with idx but with negative, e.g. node-0 is [0,0], node-1 is [-1,-1], and so on so forth.\n",
    "- Edge: 2-d, for both comment_on and commented_by, values are aligned with idx but 0.10 times smaller, e.g, edge-0 is [0,0], edge-1 is [0.1,0.1], and so on so forth"
   ]
  },
  {
   "cell_type": "code",
   "execution_count": null,
   "metadata": {},
   "outputs": [],
   "source": [
    "# let's delete previous dummy data, only can run once\n",
    "graph.nodes['user'].data.pop('nu_f_1')\n",
    "graph.edges['comment_on'].data.pop('eco_f_1')"
   ]
  },
  {
   "cell_type": "code",
   "execution_count": null,
   "metadata": {},
   "outputs": [],
   "source": [
    "user_feats = np.ones([5,2]) * np.arange(5).reshape(5,1)\n",
    "graph.nodes['user'].data['u'] = torch.from_numpy(user_feats).float()\n",
    "graph.nodes['user'].data"
   ]
  },
  {
   "cell_type": "code",
   "execution_count": null,
   "metadata": {},
   "outputs": [],
   "source": [
    "item_feats = np.ones([3,2]) * np.arange(3).reshape(3,1) * -1\n",
    "graph.nodes['item'].data['i'] = torch.from_numpy(item_feats).float()\n",
    "graph.nodes['item'].data"
   ]
  },
  {
   "cell_type": "code",
   "execution_count": null,
   "metadata": {},
   "outputs": [],
   "source": [
    "edge_feats = np.ones([8,2]) * np.arange(8).reshape(8,1) * 0.1\n",
    "graph.edges['comment_on'].data['e'] = torch.from_numpy(edge_feats).float()\n",
    "graph.edges['commented_by'].data['e'] = torch.from_numpy(edge_feats).float()\n",
    "graph.edges['comment_on'].data"
   ]
  },
  {
   "cell_type": "markdown",
   "metadata": {},
   "source": [
    "### 4.1 Let's mimic passing feature from users to items, and aggregate them with mean values"
   ]
  },
  {
   "cell_type": "markdown",
   "metadata": {},
   "source": [
    "<img src='./images/XY-Test-Data.png' width=30%>"
   ]
  },
  {
   "cell_type": "markdown",
   "metadata": {},
   "source": [
    "In our example, this means:\n",
    "- average U0, U1, and U2 features, and add to I0 feature; \n",
    "- average U1, U3, and U4 features, and add to I1; \n",
    "- average U1 and U4 features, and add to I2.\n",
    "\n",
    "DGL has a build-in function \"update_all\" to do message-passing and aggregation in one step."
   ]
  },
  {
   "cell_type": "code",
   "execution_count": null,
   "metadata": {},
   "outputs": [],
   "source": [
    "# Step 1: copy users' feature to items, average them, and then store at a dictionary named by \"u_avg\"\n",
    "graph.update_all(fn.copy_u('u', 'm'), fn.mean('m', 'u_avg'), etype='comment_on')\n",
    "graph.nodes['item'].data"
   ]
  },
  {
   "cell_type": "code",
   "execution_count": null,
   "metadata": {},
   "outputs": [],
   "source": [
    "# Step 2: add the aggregate features to each item node\n",
    "graph.nodes['item'].data['i'] = graph.nodes['item'].data['i'] + graph.nodes['item'].data['u_avg']\n",
    "graph.nodes['item'].data"
   ]
  },
  {
   "cell_type": "markdown",
   "metadata": {},
   "source": [
    "### 4.2 How about include edges' feature?\n",
    "Above we only pass Users' features to Item nodes. But how about include edges feature with the Users, and pass to the Item nodes.\n",
    "\n",
    "This task requires three steps:\n",
    "1. Pass Users' features to \"comment_on\" type of edges, and add these features with edges' features;\n",
    "2. Pass edges' aggregated features to Item nodes, and then agverage them;\n",
    "3. Add the averaged feature to Item own features"
   ]
  },
  {
   "cell_type": "code",
   "execution_count": null,
   "metadata": {},
   "outputs": [],
   "source": [
    "# Step 1: add User nodes to \"comment_on\" edges\n",
    "graph.apply_edges(fn.u_add_e('u', 'e', 'u_add_e'), etype='comment_on')\n",
    "graph.edges['comment_on'].data"
   ]
  },
  {
   "cell_type": "code",
   "execution_count": null,
   "metadata": {},
   "outputs": [],
   "source": [
    "# Step 2: pass \"comment_on\" edge features to Item nodes and average them\n",
    "graph.update_all(fn.copy_e('u_add_e', 'm'), fn.mean('m', 'u_avg'), etype='comment_on')\n",
    "graph.nodes['item'].data"
   ]
  },
  {
   "cell_type": "code",
   "execution_count": null,
   "metadata": {},
   "outputs": [],
   "source": [
    "# Step 3: add the aggregate features to each item node\n",
    "graph.nodes['item'].data['i'] = graph.nodes['item'].data['i'] + graph.nodes['item'].data['u_avg']\n",
    "graph.nodes['item'].data"
   ]
  },
  {
   "cell_type": "markdown",
   "metadata": {},
   "source": [
    "### Take_home Exercise: Reverse message passing\n",
    "\n",
    "Please do the reverse message passing. That is, pass the Item nodes' features to User nodes in the same ways demoed above:\n",
    "1. Purely pass Items' features to User nodes;\n",
    "2. Add edges' features with Items, and then pass to User nodes."
   ]
  },
  {
   "cell_type": "code",
   "execution_count": null,
   "metadata": {},
   "outputs": [],
   "source": []
  }
 ],
 "metadata": {
  "kernelspec": {
   "display_name": "Python [conda env:dgl]",
   "language": "python",
   "name": "conda-env-dgl-py"
  },
  "language_info": {
   "codemirror_mode": {
    "name": "ipython",
    "version": 3
   },
   "file_extension": ".py",
   "mimetype": "text/x-python",
   "name": "python",
   "nbconvert_exporter": "python",
   "pygments_lexer": "ipython3",
   "version": "3.6.10"
  },
  "pycharm": {
   "stem_cell": {
    "cell_type": "raw",
    "metadata": {
     "collapsed": false
    },
    "source": []
   }
  }
 },
 "nbformat": 4,
 "nbformat_minor": 2
}
